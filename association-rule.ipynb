{
 "cells": [
  {
   "cell_type": "code",
   "execution_count": 1,
   "metadata": {},
   "outputs": [],
   "source": [
    "import matplotlib.pyplot as plt; plt.rcdefaults()\n",
    "import matplotlib.pyplot as plt\n",
    "import pandas as pd\n",
    "import numpy as np\n",
    "import warnings\n",
    "warnings.filterwarnings('ignore')"
   ]
  },
  {
   "cell_type": "code",
   "execution_count": 3,
   "metadata": {},
   "outputs": [],
   "source": [
    "df = pd.read_csv('Workshop 06 dataset.zip', sep=\n",
    "'\\t')"
   ]
  },
  {
   "cell_type": "code",
   "execution_count": 4,
   "metadata": {},
   "outputs": [
    {
     "data": {
      "text/html": [
       "<div>\n",
       "<style scoped>\n",
       "    .dataframe tbody tr th:only-of-type {\n",
       "        vertical-align: middle;\n",
       "    }\n",
       "\n",
       "    .dataframe tbody tr th {\n",
       "        vertical-align: top;\n",
       "    }\n",
       "\n",
       "    .dataframe thead th {\n",
       "        text-align: right;\n",
       "    }\n",
       "</style>\n",
       "<table border=\"1\" class=\"dataframe\">\n",
       "  <thead>\n",
       "    <tr style=\"text-align: right;\">\n",
       "      <th></th>\n",
       "      <th>transaction_ID</th>\n",
       "      <th>Date</th>\n",
       "      <th>Time</th>\n",
       "      <th>item_0</th>\n",
       "      <th>item_1</th>\n",
       "      <th>item_2</th>\n",
       "      <th>item_3</th>\n",
       "      <th>item_4</th>\n",
       "      <th>item_5</th>\n",
       "      <th>item_6</th>\n",
       "      <th>...</th>\n",
       "      <th>item_31</th>\n",
       "      <th>item_32</th>\n",
       "      <th>item_33</th>\n",
       "      <th>item_34</th>\n",
       "      <th>item_35</th>\n",
       "      <th>item_36</th>\n",
       "      <th>item_37</th>\n",
       "      <th>item_38</th>\n",
       "      <th>item_39</th>\n",
       "      <th>item_40</th>\n",
       "    </tr>\n",
       "  </thead>\n",
       "  <tbody>\n",
       "    <tr>\n",
       "      <th>0</th>\n",
       "      <td>536365</td>\n",
       "      <td>01/12/2010</td>\n",
       "      <td>08:26</td>\n",
       "      <td>WHITE HANGING HEART T-LIGHT HOLDER</td>\n",
       "      <td>WHITE METAL LANTERN</td>\n",
       "      <td>CREAM CUPID HEARTS COAT HANGER</td>\n",
       "      <td>KNITTED UNION FLAG HOT WATER BOTTLE</td>\n",
       "      <td>RED WOOLLY HOTTIE WHITE HEART</td>\n",
       "      <td>SET 7 BABUSHKA NESTING BOXES</td>\n",
       "      <td>GLASS STAR FROSTED T-LIGHT HOLDER</td>\n",
       "      <td>...</td>\n",
       "      <td>NaN</td>\n",
       "      <td>NaN</td>\n",
       "      <td>NaN</td>\n",
       "      <td>NaN</td>\n",
       "      <td>NaN</td>\n",
       "      <td>NaN</td>\n",
       "      <td>NaN</td>\n",
       "      <td>NaN</td>\n",
       "      <td>NaN</td>\n",
       "      <td>NaN</td>\n",
       "    </tr>\n",
       "    <tr>\n",
       "      <th>1</th>\n",
       "      <td>536366</td>\n",
       "      <td>01/12/2010</td>\n",
       "      <td>08:28</td>\n",
       "      <td>HAND WARMER UNION JACK</td>\n",
       "      <td>HAND WARMER RED POLKA DOT</td>\n",
       "      <td>NaN</td>\n",
       "      <td>NaN</td>\n",
       "      <td>NaN</td>\n",
       "      <td>NaN</td>\n",
       "      <td>NaN</td>\n",
       "      <td>...</td>\n",
       "      <td>NaN</td>\n",
       "      <td>NaN</td>\n",
       "      <td>NaN</td>\n",
       "      <td>NaN</td>\n",
       "      <td>NaN</td>\n",
       "      <td>NaN</td>\n",
       "      <td>NaN</td>\n",
       "      <td>NaN</td>\n",
       "      <td>NaN</td>\n",
       "      <td>NaN</td>\n",
       "    </tr>\n",
       "    <tr>\n",
       "      <th>2</th>\n",
       "      <td>536367</td>\n",
       "      <td>01/12/2010</td>\n",
       "      <td>08:34</td>\n",
       "      <td>ASSORTED COLOUR BIRD ORNAMENT</td>\n",
       "      <td>POPPY'S PLAYHOUSE BEDROOM</td>\n",
       "      <td>POPPY'S PLAYHOUSE KITCHEN</td>\n",
       "      <td>FELTCRAFT PRINCESS CHARLOTTE DOLL</td>\n",
       "      <td>IVORY KNITTED MUG COSY</td>\n",
       "      <td>BOX OF 6 ASSORTED COLOUR TEASPOONS</td>\n",
       "      <td>BOX OF VINTAGE JIGSAW BLOCKS</td>\n",
       "      <td>...</td>\n",
       "      <td>NaN</td>\n",
       "      <td>NaN</td>\n",
       "      <td>NaN</td>\n",
       "      <td>NaN</td>\n",
       "      <td>NaN</td>\n",
       "      <td>NaN</td>\n",
       "      <td>NaN</td>\n",
       "      <td>NaN</td>\n",
       "      <td>NaN</td>\n",
       "      <td>NaN</td>\n",
       "    </tr>\n",
       "    <tr>\n",
       "      <th>3</th>\n",
       "      <td>536368</td>\n",
       "      <td>01/12/2010</td>\n",
       "      <td>08:34</td>\n",
       "      <td>JAM MAKING SET WITH JARS</td>\n",
       "      <td>RED COAT RACK PARIS FASHION</td>\n",
       "      <td>YELLOW COAT RACK PARIS FASHION</td>\n",
       "      <td>BLUE COAT RACK PARIS FASHION</td>\n",
       "      <td>NaN</td>\n",
       "      <td>NaN</td>\n",
       "      <td>NaN</td>\n",
       "      <td>...</td>\n",
       "      <td>NaN</td>\n",
       "      <td>NaN</td>\n",
       "      <td>NaN</td>\n",
       "      <td>NaN</td>\n",
       "      <td>NaN</td>\n",
       "      <td>NaN</td>\n",
       "      <td>NaN</td>\n",
       "      <td>NaN</td>\n",
       "      <td>NaN</td>\n",
       "      <td>NaN</td>\n",
       "    </tr>\n",
       "    <tr>\n",
       "      <th>4</th>\n",
       "      <td>536369</td>\n",
       "      <td>01/12/2010</td>\n",
       "      <td>08:35</td>\n",
       "      <td>BATH BUILDING BLOCK WORD</td>\n",
       "      <td>NaN</td>\n",
       "      <td>NaN</td>\n",
       "      <td>NaN</td>\n",
       "      <td>NaN</td>\n",
       "      <td>NaN</td>\n",
       "      <td>NaN</td>\n",
       "      <td>...</td>\n",
       "      <td>NaN</td>\n",
       "      <td>NaN</td>\n",
       "      <td>NaN</td>\n",
       "      <td>NaN</td>\n",
       "      <td>NaN</td>\n",
       "      <td>NaN</td>\n",
       "      <td>NaN</td>\n",
       "      <td>NaN</td>\n",
       "      <td>NaN</td>\n",
       "      <td>NaN</td>\n",
       "    </tr>\n",
       "  </tbody>\n",
       "</table>\n",
       "<p>5 rows × 44 columns</p>\n",
       "</div>"
      ],
      "text/plain": [
       "  transaction_ID        Date   Time                              item_0  \\\n",
       "0         536365  01/12/2010  08:26  WHITE HANGING HEART T-LIGHT HOLDER   \n",
       "1         536366  01/12/2010  08:28              HAND WARMER UNION JACK   \n",
       "2         536367  01/12/2010  08:34       ASSORTED COLOUR BIRD ORNAMENT   \n",
       "3         536368  01/12/2010  08:34            JAM MAKING SET WITH JARS   \n",
       "4         536369  01/12/2010  08:35            BATH BUILDING BLOCK WORD   \n",
       "\n",
       "                        item_1                          item_2  \\\n",
       "0          WHITE METAL LANTERN  CREAM CUPID HEARTS COAT HANGER   \n",
       "1    HAND WARMER RED POLKA DOT                             NaN   \n",
       "2    POPPY'S PLAYHOUSE BEDROOM       POPPY'S PLAYHOUSE KITCHEN   \n",
       "3  RED COAT RACK PARIS FASHION  YELLOW COAT RACK PARIS FASHION   \n",
       "4                          NaN                             NaN   \n",
       "\n",
       "                                item_3                         item_4  \\\n",
       "0  KNITTED UNION FLAG HOT WATER BOTTLE  RED WOOLLY HOTTIE WHITE HEART   \n",
       "1                                  NaN                            NaN   \n",
       "2    FELTCRAFT PRINCESS CHARLOTTE DOLL         IVORY KNITTED MUG COSY   \n",
       "3         BLUE COAT RACK PARIS FASHION                            NaN   \n",
       "4                                  NaN                            NaN   \n",
       "\n",
       "                               item_5                             item_6  ...  \\\n",
       "0        SET 7 BABUSHKA NESTING BOXES  GLASS STAR FROSTED T-LIGHT HOLDER  ...   \n",
       "1                                 NaN                                NaN  ...   \n",
       "2  BOX OF 6 ASSORTED COLOUR TEASPOONS       BOX OF VINTAGE JIGSAW BLOCKS  ...   \n",
       "3                                 NaN                                NaN  ...   \n",
       "4                                 NaN                                NaN  ...   \n",
       "\n",
       "  item_31 item_32 item_33 item_34 item_35 item_36 item_37 item_38 item_39  \\\n",
       "0     NaN     NaN     NaN     NaN     NaN     NaN     NaN     NaN     NaN   \n",
       "1     NaN     NaN     NaN     NaN     NaN     NaN     NaN     NaN     NaN   \n",
       "2     NaN     NaN     NaN     NaN     NaN     NaN     NaN     NaN     NaN   \n",
       "3     NaN     NaN     NaN     NaN     NaN     NaN     NaN     NaN     NaN   \n",
       "4     NaN     NaN     NaN     NaN     NaN     NaN     NaN     NaN     NaN   \n",
       "\n",
       "  item_40  \n",
       "0     NaN  \n",
       "1     NaN  \n",
       "2     NaN  \n",
       "3     NaN  \n",
       "4     NaN  \n",
       "\n",
       "[5 rows x 44 columns]"
      ]
     },
     "execution_count": 4,
     "metadata": {},
     "output_type": "execute_result"
    }
   ],
   "source": [
    "df.head()"
   ]
  },
  {
   "cell_type": "code",
   "execution_count": 5,
   "metadata": {},
   "outputs": [
    {
     "data": {
      "text/plain": [
       "(31941, 44)"
      ]
     },
     "execution_count": 5,
     "metadata": {},
     "output_type": "execute_result"
    }
   ],
   "source": [
    "df.shape"
   ]
  },
  {
   "cell_type": "code",
   "execution_count": 6,
   "metadata": {},
   "outputs": [],
   "source": [
    "STUDENT_NAME = 'MameFasseSALL'\n",
    "STUDENT_NO = '1202'"
   ]
  },
  {
   "cell_type": "code",
   "execution_count": 7,
   "metadata": {},
   "outputs": [],
   "source": [
    "np.random.seed(int(STUDENT_NO))\n",
    "unique_id = int('2' + STUDENT_NO)\n",
    "rows = np.random.choice(df.index.values, unique_id)\n",
    "data = df.loc[rows]"
   ]
  },
  {
   "cell_type": "code",
   "execution_count": 8,
   "metadata": {},
   "outputs": [],
   "source": [
    "file_name = STUDENT_NAME + \"_\" + STUDENT_NO + \"_6.csv\"\n",
    "data.to_csv(file_name)"
   ]
  },
  {
   "cell_type": "code",
   "execution_count": 9,
   "metadata": {},
   "outputs": [
    {
     "data": {
      "text/plain": [
       "(21202, 44)"
      ]
     },
     "execution_count": 9,
     "metadata": {},
     "output_type": "execute_result"
    }
   ],
   "source": [
    "data.shape"
   ]
  },
  {
   "cell_type": "code",
   "execution_count": 10,
   "metadata": {},
   "outputs": [
    {
     "data": {
      "text/plain": [
       "transaction_ID    13493\n",
       "Date                305\n",
       "Time                732\n",
       "item_0             2753\n",
       "item_1             2547\n",
       "item_2             2499\n",
       "item_3             2443\n",
       "item_4             2432\n",
       "item_5             2402\n",
       "item_6             2383\n",
       "item_7             2378\n",
       "item_8             2333\n",
       "item_9             2275\n",
       "item_10            2294\n",
       "item_11            2226\n",
       "item_12            2224\n",
       "item_13            2166\n",
       "item_14            2158\n",
       "item_15            2138\n",
       "item_16            2063\n",
       "item_17            2085\n",
       "item_18            2082\n",
       "item_19            2016\n",
       "item_20            1979\n",
       "item_21            1937\n",
       "item_22            1924\n",
       "item_23            1896\n",
       "item_24            1931\n",
       "item_25            1891\n",
       "item_26            1822\n",
       "item_27            1803\n",
       "item_28            1791\n",
       "item_29            1770\n",
       "item_30            1741\n",
       "item_31            1688\n",
       "item_32            1684\n",
       "item_33            1647\n",
       "item_34            1654\n",
       "item_35            1640\n",
       "item_36            1628\n",
       "item_37            1590\n",
       "item_38            1577\n",
       "item_39            1557\n",
       "item_40            1535\n",
       "dtype: int64"
      ]
     },
     "execution_count": 10,
     "metadata": {},
     "output_type": "execute_result"
    }
   ],
   "source": [
    "data.nunique()"
   ]
  },
  {
   "cell_type": "code",
   "execution_count": 11,
   "metadata": {},
   "outputs": [],
   "source": [
    "data['Hour'] = pd.to_datetime(data['Time'], format='%H:%M').dt.hour"
   ]
  },
  {
   "cell_type": "code",
   "execution_count": 14,
   "metadata": {},
   "outputs": [
    {
     "data": {
      "image/png": "[encoded data removed]",
      "text/plain": [
       "<Figure size 640x480 with 1 Axes>"
      ]
     },
     "metadata": {},
     "output_type": "display_data"
    }
   ],
   "source": [
    "hour_hist = data.hist(column=\"Hour\", bins=15, grid=False)\n",
    "\n",
    "for ax in hour_hist.flatten():\n",
    "    ax.set_xlabel(\"Hour\")\n",
    "    ax.set_ylabel(\"Frequency\")"
   ]
  },
  {
   "cell_type": "code",
   "execution_count": 20,
   "metadata": {},
   "outputs": [],
   "source": [
    "from apyori import apriori"
   ]
  },
  {
   "cell_type": "code",
   "execution_count": 21,
   "metadata": {},
   "outputs": [],
   "source": [
    "items_df = data[data.columns[3:44]]"
   ]
  },
  {
   "cell_type": "code",
   "execution_count": 22,
   "metadata": {},
   "outputs": [
    {
     "data": {
      "text/html": [
       "<div>\n",
       "<style scoped>\n",
       "    .dataframe tbody tr th:only-of-type {\n",
       "        vertical-align: middle;\n",
       "    }\n",
       "\n",
       "    .dataframe tbody tr th {\n",
       "        vertical-align: top;\n",
       "    }\n",
       "\n",
       "    .dataframe thead th {\n",
       "        text-align: right;\n",
       "    }\n",
       "</style>\n",
       "<table border=\"1\" class=\"dataframe\">\n",
       "  <thead>\n",
       "    <tr style=\"text-align: right;\">\n",
       "      <th></th>\n",
       "      <th>item_0</th>\n",
       "      <th>item_1</th>\n",
       "      <th>item_2</th>\n",
       "      <th>item_3</th>\n",
       "      <th>item_4</th>\n",
       "      <th>item_5</th>\n",
       "      <th>item_6</th>\n",
       "      <th>item_7</th>\n",
       "      <th>item_8</th>\n",
       "      <th>item_9</th>\n",
       "      <th>...</th>\n",
       "      <th>item_31</th>\n",
       "      <th>item_32</th>\n",
       "      <th>item_33</th>\n",
       "      <th>item_34</th>\n",
       "      <th>item_35</th>\n",
       "      <th>item_36</th>\n",
       "      <th>item_37</th>\n",
       "      <th>item_38</th>\n",
       "      <th>item_39</th>\n",
       "      <th>item_40</th>\n",
       "    </tr>\n",
       "  </thead>\n",
       "  <tbody>\n",
       "    <tr>\n",
       "      <th>11369</th>\n",
       "      <td>IVORY SWEETHEART SOAP DISH</td>\n",
       "      <td>TRIPLE HOOK ANTIQUE IVORY ROSE</td>\n",
       "      <td>PHOTO FRAME 3 CLASSIC HANGING</td>\n",
       "      <td>EMERGENCY FIRST AID TIN</td>\n",
       "      <td>NaN</td>\n",
       "      <td>NaN</td>\n",
       "      <td>NaN</td>\n",
       "      <td>NaN</td>\n",
       "      <td>NaN</td>\n",
       "      <td>NaN</td>\n",
       "      <td>...</td>\n",
       "      <td>NaN</td>\n",
       "      <td>NaN</td>\n",
       "      <td>NaN</td>\n",
       "      <td>NaN</td>\n",
       "      <td>NaN</td>\n",
       "      <td>NaN</td>\n",
       "      <td>NaN</td>\n",
       "      <td>NaN</td>\n",
       "      <td>NaN</td>\n",
       "      <td>NaN</td>\n",
       "    </tr>\n",
       "    <tr>\n",
       "      <th>22418</th>\n",
       "      <td>WRAP ALPHABET DESIGN</td>\n",
       "      <td>SPACEBOY GIFT WRAP</td>\n",
       "      <td>KITTY PENCIL ERASERS</td>\n",
       "      <td>DOGGY RUBBER</td>\n",
       "      <td>WORLD WAR 2 GLIDERS ASSTD DESIGNS</td>\n",
       "      <td>TOADSTOOL BEDSIDE LIGHT</td>\n",
       "      <td>PANTRY SCRUBBING BRUSH</td>\n",
       "      <td>RED  HARMONICA IN BOX</td>\n",
       "      <td>BAG 125g SWIRLY MARBLES</td>\n",
       "      <td>SET 12 RETRO WHITE CHALK STICKS</td>\n",
       "      <td>...</td>\n",
       "      <td>PINK FOXGLOVE ARTIIFCIAL FLOWER</td>\n",
       "      <td>NaN</td>\n",
       "      <td>NaN</td>\n",
       "      <td>NaN</td>\n",
       "      <td>NaN</td>\n",
       "      <td>NaN</td>\n",
       "      <td>NaN</td>\n",
       "      <td>NaN</td>\n",
       "      <td>NaN</td>\n",
       "      <td>NaN</td>\n",
       "    </tr>\n",
       "    <tr>\n",
       "      <th>9248</th>\n",
       "      <td>PACK OF 12 COLOURED PENCILS</td>\n",
       "      <td>PACK OF 12 TRADITIONAL CRAYONS</td>\n",
       "      <td>ENVELOPE 50 BLOSSOM IMAGES</td>\n",
       "      <td>PACK OF 6 SWEETIE GIFT BOXES</td>\n",
       "      <td>PACK OF 6 HANDBAG GIFT BOXES</td>\n",
       "      <td>WRAP VINTAGE PETALS  DESIGN</td>\n",
       "      <td>WRAP DOILEY DESIGN</td>\n",
       "      <td>WRAP POPPIES  DESIGN</td>\n",
       "      <td>PACK OF 6 BIRDY GIFT TAGS</td>\n",
       "      <td>PACK OF 6 PANNETONE GIFT BOXES</td>\n",
       "      <td>...</td>\n",
       "      <td>WRAP SUKI AND FRIENDS</td>\n",
       "      <td>WRAP ENGLISH ROSE</td>\n",
       "      <td>FELTCRAFT CUSHION BUTTERFLY</td>\n",
       "      <td>FELTCRAFT BOY JEAN-PAUL KIT</td>\n",
       "      <td>FELTCRAFT GIRL NICOLE KIT</td>\n",
       "      <td>FELTCRAFT GIRL AMELIE KIT</td>\n",
       "      <td>FELTCRAFT CUSHION RABBIT</td>\n",
       "      <td>FELTCRAFT CUSHION OWL</td>\n",
       "      <td>HOLIDAY FUN LUDO</td>\n",
       "      <td>HEADS AND TAILS SPORTING FUN</td>\n",
       "    </tr>\n",
       "    <tr>\n",
       "      <th>15335</th>\n",
       "      <td>BOTANICAL LAVENDER GIFT WRAP</td>\n",
       "      <td>LUNCH BAG PINK POLKADOT</td>\n",
       "      <td>JUMBO BAG APPLES</td>\n",
       "      <td>3 HOOK PHOTO SHELF ANTIQUE WHITE</td>\n",
       "      <td>EDWARDIAN PARASOL NATURAL</td>\n",
       "      <td>WOODEN HAPPY BIRTHDAY GARLAND</td>\n",
       "      <td>BLUE STRIPE CERAMIC DRAWER KNOB</td>\n",
       "      <td>WHITE SPOT RED CERAMIC DRAWER KNOB</td>\n",
       "      <td>CHILDRENS CUTLERY CIRCUS PARADE</td>\n",
       "      <td>BLUE STRIPE CERAMIC DRAWER KNOB</td>\n",
       "      <td>...</td>\n",
       "      <td>GREEN DRAWER KNOB ACRYLIC EDWARDIAN</td>\n",
       "      <td>BLUE DRAWER KNOB ACRYLIC EDWARDIAN</td>\n",
       "      <td>LIPSTICK PEN RED</td>\n",
       "      <td>LIPSTICK PEN BABY PINK</td>\n",
       "      <td>DISCO BALL CHRISTMAS DECORATION</td>\n",
       "      <td>SET OF 16 VINTAGE ROSE CUTLERY</td>\n",
       "      <td>PACK OF 60 DINOSAUR CAKE CASES</td>\n",
       "      <td>PACK OF 60 MUSHROOM CAKE CASES</td>\n",
       "      <td>SET/10 PINK POLKADOT PARTY CANDLES</td>\n",
       "      <td>IVORY KNITTED MUG COSY</td>\n",
       "    </tr>\n",
       "    <tr>\n",
       "      <th>27515</th>\n",
       "      <td>SPACEBOY LUNCH BOX</td>\n",
       "      <td>GENTLEMAN SHIRT REPAIR KIT</td>\n",
       "      <td>BUTTON BOX</td>\n",
       "      <td>CHARLOTTE BAG DOLLY GIRL DESIGN</td>\n",
       "      <td>LUNCH BAG DOLLY GIRL DESIGN</td>\n",
       "      <td>JUMBO BAG DOLLY GIRL DESIGN</td>\n",
       "      <td>TOY TIDY DOLLY GIRL DESIGN</td>\n",
       "      <td>RECIPE BOX PANTRY YELLOW DESIGN</td>\n",
       "      <td>FRENCH BATHROOM SIGN BLUE METAL</td>\n",
       "      <td>DOORMAT HOME SWEET HOME BLUE</td>\n",
       "      <td>...</td>\n",
       "      <td>SET OF 6 T-LIGHTS SANTA</td>\n",
       "      <td>SET OF 6 T-LIGHTS SNOWMEN</td>\n",
       "      <td>CARD PARTY GAMES</td>\n",
       "      <td>CARD PSYCHEDELIC APPLES</td>\n",
       "      <td>CARD MOTORBIKE SANTA</td>\n",
       "      <td>CARD SUKI BIRTHDAY</td>\n",
       "      <td>CARD CHRISTMAS VILLAGE</td>\n",
       "      <td>HOT WATER BOTTLE I AM SO POORLY</td>\n",
       "      <td>HAND WARMER OWL DESIGN</td>\n",
       "      <td>HAND WARMER SCOTTY DOG DESIGN</td>\n",
       "    </tr>\n",
       "  </tbody>\n",
       "</table>\n",
       "<p>5 rows × 41 columns</p>\n",
       "</div>"
      ],
      "text/plain": [
       "                             item_0                          item_1  \\\n",
       "11369    IVORY SWEETHEART SOAP DISH  TRIPLE HOOK ANTIQUE IVORY ROSE   \n",
       "22418          WRAP ALPHABET DESIGN              SPACEBOY GIFT WRAP   \n",
       "9248    PACK OF 12 COLOURED PENCILS  PACK OF 12 TRADITIONAL CRAYONS   \n",
       "15335  BOTANICAL LAVENDER GIFT WRAP         LUNCH BAG PINK POLKADOT   \n",
       "27515            SPACEBOY LUNCH BOX      GENTLEMAN SHIRT REPAIR KIT   \n",
       "\n",
       "                              item_2                            item_3  \\\n",
       "11369  PHOTO FRAME 3 CLASSIC HANGING           EMERGENCY FIRST AID TIN   \n",
       "22418           KITTY PENCIL ERASERS                      DOGGY RUBBER   \n",
       "9248      ENVELOPE 50 BLOSSOM IMAGES      PACK OF 6 SWEETIE GIFT BOXES   \n",
       "15335               JUMBO BAG APPLES  3 HOOK PHOTO SHELF ANTIQUE WHITE   \n",
       "27515                     BUTTON BOX   CHARLOTTE BAG DOLLY GIRL DESIGN   \n",
       "\n",
       "                                  item_4                         item_5  \\\n",
       "11369                                NaN                            NaN   \n",
       "22418  WORLD WAR 2 GLIDERS ASSTD DESIGNS        TOADSTOOL BEDSIDE LIGHT   \n",
       "9248        PACK OF 6 HANDBAG GIFT BOXES    WRAP VINTAGE PETALS  DESIGN   \n",
       "15335          EDWARDIAN PARASOL NATURAL  WOODEN HAPPY BIRTHDAY GARLAND   \n",
       "27515        LUNCH BAG DOLLY GIRL DESIGN    JUMBO BAG DOLLY GIRL DESIGN   \n",
       "\n",
       "                                item_6                              item_7  \\\n",
       "11369                              NaN                                 NaN   \n",
       "22418           PANTRY SCRUBBING BRUSH               RED  HARMONICA IN BOX   \n",
       "9248                WRAP DOILEY DESIGN                WRAP POPPIES  DESIGN   \n",
       "15335  BLUE STRIPE CERAMIC DRAWER KNOB  WHITE SPOT RED CERAMIC DRAWER KNOB   \n",
       "27515       TOY TIDY DOLLY GIRL DESIGN     RECIPE BOX PANTRY YELLOW DESIGN   \n",
       "\n",
       "                                item_8                           item_9  ...  \\\n",
       "11369                              NaN                              NaN  ...   \n",
       "22418          BAG 125g SWIRLY MARBLES  SET 12 RETRO WHITE CHALK STICKS  ...   \n",
       "9248         PACK OF 6 BIRDY GIFT TAGS   PACK OF 6 PANNETONE GIFT BOXES  ...   \n",
       "15335  CHILDRENS CUTLERY CIRCUS PARADE  BLUE STRIPE CERAMIC DRAWER KNOB  ...   \n",
       "27515  FRENCH BATHROOM SIGN BLUE METAL     DOORMAT HOME SWEET HOME BLUE  ...   \n",
       "\n",
       "                                   item_31  \\\n",
       "11369                                  NaN   \n",
       "22418      PINK FOXGLOVE ARTIIFCIAL FLOWER   \n",
       "9248                 WRAP SUKI AND FRIENDS   \n",
       "15335  GREEN DRAWER KNOB ACRYLIC EDWARDIAN   \n",
       "27515              SET OF 6 T-LIGHTS SANTA   \n",
       "\n",
       "                                  item_32                      item_33  \\\n",
       "11369                                 NaN                          NaN   \n",
       "22418                                 NaN                          NaN   \n",
       "9248                    WRAP ENGLISH ROSE  FELTCRAFT CUSHION BUTTERFLY   \n",
       "15335  BLUE DRAWER KNOB ACRYLIC EDWARDIAN             LIPSTICK PEN RED   \n",
       "27515           SET OF 6 T-LIGHTS SNOWMEN             CARD PARTY GAMES   \n",
       "\n",
       "                           item_34                          item_35  \\\n",
       "11369                          NaN                              NaN   \n",
       "22418                          NaN                              NaN   \n",
       "9248   FELTCRAFT BOY JEAN-PAUL KIT        FELTCRAFT GIRL NICOLE KIT   \n",
       "15335       LIPSTICK PEN BABY PINK  DISCO BALL CHRISTMAS DECORATION   \n",
       "27515      CARD PSYCHEDELIC APPLES             CARD MOTORBIKE SANTA   \n",
       "\n",
       "                              item_36                         item_37  \\\n",
       "11369                             NaN                             NaN   \n",
       "22418                             NaN                             NaN   \n",
       "9248        FELTCRAFT GIRL AMELIE KIT        FELTCRAFT CUSHION RABBIT   \n",
       "15335  SET OF 16 VINTAGE ROSE CUTLERY  PACK OF 60 DINOSAUR CAKE CASES   \n",
       "27515              CARD SUKI BIRTHDAY          CARD CHRISTMAS VILLAGE   \n",
       "\n",
       "                               item_38                             item_39  \\\n",
       "11369                              NaN                                 NaN   \n",
       "22418                              NaN                                 NaN   \n",
       "9248             FELTCRAFT CUSHION OWL                    HOLIDAY FUN LUDO   \n",
       "15335   PACK OF 60 MUSHROOM CAKE CASES  SET/10 PINK POLKADOT PARTY CANDLES   \n",
       "27515  HOT WATER BOTTLE I AM SO POORLY              HAND WARMER OWL DESIGN   \n",
       "\n",
       "                             item_40  \n",
       "11369                            NaN  \n",
       "22418                            NaN  \n",
       "9248    HEADS AND TAILS SPORTING FUN  \n",
       "15335         IVORY KNITTED MUG COSY  \n",
       "27515  HAND WARMER SCOTTY DOG DESIGN  \n",
       "\n",
       "[5 rows x 41 columns]"
      ]
     },
     "execution_count": 22,
     "metadata": {},
     "output_type": "execute_result"
    }
   ],
   "source": [
    "\n",
    "items_df.head()"
   ]
  },
  {
   "cell_type": "code",
   "execution_count": 23,
   "metadata": {},
   "outputs": [],
   "source": [
    "baskets = items_df.T.apply(lambda x: x.dropna().tolist()).tolist()"
   ]
  },
  {
   "cell_type": "code",
   "execution_count": 24,
   "metadata": {},
   "outputs": [
    {
     "name": "stdout",
     "output_type": "stream",
     "text": [
      "['IVORY SWEETHEART SOAP DISH', 'TRIPLE HOOK ANTIQUE IVORY ROSE', 'PHOTO FRAME 3 CLASSIC HANGING', 'EMERGENCY FIRST AID TIN']\n",
      "['WRAP ALPHABET DESIGN', 'SPACEBOY GIFT WRAP', 'KITTY PENCIL ERASERS', 'DOGGY RUBBER', 'WORLD WAR 2 GLIDERS ASSTD DESIGNS', 'TOADSTOOL BEDSIDE LIGHT', 'PANTRY SCRUBBING BRUSH', 'RED  HARMONICA IN BOX', 'BAG 125g SWIRLY MARBLES', 'SET 12 RETRO WHITE CHALK STICKS', 'GLOW IN DARK DOLPHINS', 'PLASTERS IN TIN SPACEBOY', 'VINTAGE SNAP CARDS', 'PANTRY WASHING UP BRUSH', 'CAMOUFLAGE LED TORCH', 'RED TOADSTOOL LED NIGHT LIGHT', 'SET OF 6 3D KIT CARDS FOR KIDS', '3D DOG PICTURE PLAYING CARDS', 'SILK PURSE BABUSHKA PINK', 'SILK PURSE BABUSHKA BLUE', 'SILK PURSE BABUSHKA PINK', 'SKULLS PARTY BAG + STICKER SET', 'MAGIC DRAWING SLATE PURDEY', 'MAGIC DRAWING SLATE BUNNIES', 'MAGIC DRAWING SLATE GO TO THE FAIR', 'MARIE ANTOINETTE TRINKET BOX GOLD', 'TRADITIONAL WOODEN SKIPPING ROPE', 'SET 6 FOOTBALL CELEBRATION CANDLES', 'MARIE ANTOINETTE TRINKET BOX GOLD', 'SET OF 6 T-LIGHTS TOADSTOOLS', 'FORKED CACTUS CANDLE', 'PINK FOXGLOVE ARTIIFCIAL FLOWER']\n",
      "['PACK OF 12 COLOURED PENCILS', 'PACK OF 12 TRADITIONAL CRAYONS', 'ENVELOPE 50 BLOSSOM IMAGES', 'PACK OF 6 SWEETIE GIFT BOXES', 'PACK OF 6 HANDBAG GIFT BOXES', 'WRAP VINTAGE PETALS  DESIGN', 'WRAP DOILEY DESIGN', 'WRAP POPPIES  DESIGN', 'PACK OF 6 BIRDY GIFT TAGS', 'PACK OF 6 PANNETONE GIFT BOXES', 'CARD PARTY GAMES', 'CARD BIRTHDAY COWBOY', 'RING OF ROSES BIRTHDAY CARD', 'RAINY LADIES BIRTHDAY CARD', 'PENNY FARTHING BIRTHDAY CARD', 'CARD BILLBOARD FONT', 'BANQUET BIRTHDAY  CARD', 'CARD WEDDING DAY', 'SPACEBOY BIRTHDAY CARD', 'TEA PARTY BIRTHDAY CARD', 'FANCY FONTS BIRTHDAY WRAP', 'BIRTHDAY BANQUET GIFT WRAP', 'PINK POLKADOT WRAP', 'BLUE POLKADOT WRAP', 'RED RETROSPOT WRAP', 'DECOUPAGE,GREETING CARD', 'FANCY FONT BIRTHDAY CARD', 'SKULLS GREETING CARD', 'ELEPHANT, BIRTHDAY CARD', 'COWBOYS AND INDIANS BIRTHDAY CARD', 'VINTAGE KID DOLLY CARD', 'WRAP SUKI AND FRIENDS', 'WRAP ENGLISH ROSE', 'FELTCRAFT CUSHION BUTTERFLY', 'FELTCRAFT BOY JEAN-PAUL KIT', 'FELTCRAFT GIRL NICOLE KIT', 'FELTCRAFT GIRL AMELIE KIT', 'FELTCRAFT CUSHION RABBIT', 'FELTCRAFT CUSHION OWL', 'HOLIDAY FUN LUDO', 'HEADS AND TAILS SPORTING FUN']\n",
      "['BOTANICAL LAVENDER GIFT WRAP', 'LUNCH BAG PINK POLKADOT', 'JUMBO BAG APPLES', '3 HOOK PHOTO SHELF ANTIQUE WHITE', 'EDWARDIAN PARASOL NATURAL', 'WOODEN HAPPY BIRTHDAY GARLAND', 'BLUE STRIPE CERAMIC DRAWER KNOB', 'WHITE SPOT RED CERAMIC DRAWER KNOB', 'CHILDRENS CUTLERY CIRCUS PARADE', 'BLUE STRIPE CERAMIC DRAWER KNOB', 'SET OF SALT AND PEPPER TOADSTOOLS', 'DOORMAT AIRMAIL', 'AIRLINE BAG VINTAGE JET SET WHITE', 'JUNGLE POPSICLES ICE LOLLY MOULDS', 'LUNCH BAG WOODLAND', 'CHARLOTTE BAG DOLLY GIRL DESIGN', 'LUNCH BAG RED RETROSPOT', 'NATURAL SLATE RECTANGLE CHALKBOARD', 'LARGE PURPLE BABUSHKA NOTEBOOK', 'RED METAL BEACH SPADE', 'HANGING HEART MIRROR DECORATION', 'LUNCH BAG CARS BLUE', 'LUNCH BAG SUKI DESIGN', 'JAZZ HEARTS ADDRESS BOOK', '200 RED + WHITE BENDY STRAWS', 'LUNCH BAG APPLE DESIGN', 'CHARLOTTE BAG APPLES DESIGN', 'RED/CREAM STRIPE CUSHION COVER', 'UNION STRIPE CUSHION COVER', 'SKULL SHOULDER BAG', 'LOVE HEART SOCK HANGER', 'GREEN DRAWER KNOB ACRYLIC EDWARDIAN', 'BLUE DRAWER KNOB ACRYLIC EDWARDIAN', 'LIPSTICK PEN RED', 'LIPSTICK PEN BABY PINK', 'DISCO BALL CHRISTMAS DECORATION', 'SET OF 16 VINTAGE ROSE CUTLERY', 'PACK OF 60 DINOSAUR CAKE CASES', 'PACK OF 60 MUSHROOM CAKE CASES', 'SET/10 PINK POLKADOT PARTY CANDLES', 'IVORY KNITTED MUG COSY']\n",
      "['SPACEBOY LUNCH BOX', 'GENTLEMAN SHIRT REPAIR KIT', 'BUTTON BOX', 'CHARLOTTE BAG DOLLY GIRL DESIGN', 'LUNCH BAG DOLLY GIRL DESIGN', 'JUMBO BAG DOLLY GIRL DESIGN', 'TOY TIDY DOLLY GIRL DESIGN', 'RECIPE BOX PANTRY YELLOW DESIGN', 'FRENCH BATHROOM SIGN BLUE METAL', 'DOORMAT HOME SWEET HOME BLUE', 'WICKER WREATH LARGE', 'ROSES REGENCY TEACUP AND SAUCER', 'CARD I LOVE LONDON', 'CARD CIRCUS PARADE', 'SET OF 3 CAKE TINS PANTRY DESIGN', 'SET OF 6 SPICE TINS PANTRY DESIGN', 'ALARM CLOCK BAKELIKE CHOCOLATE', 'ALARM CLOCK BAKELIKE GREEN', 'ALARM CLOCK BAKELIKE PINK', '3D CHRISTMAS STAMPS STICKERS', 'SET OF 6 RIBBONS VINTAGE CHRISTMAS', 'RIBBON REEL CHRISTMAS PRESENT', 'RIBBON REEL SNOWY VILLAGE', 'RIBBON REEL CHRISTMAS SOCK BAUBLE', 'FUNKY DIVA PEN', \"POPPY'S PLAYHOUSE KITCHEN\", 'FELTCRAFT PRINCESS LOLA DOLL', 'FELTCRAFT PRINCESS OLIVIA DOLL', 'SET 7 BABUSHKA NESTING BOXES', 'SET OF 3 NOTEBOOKS IN PARCEL', 'ANTIQUE TALL SWIRLGLASS TRINKET POT', 'SET OF 6 T-LIGHTS SANTA', 'SET OF 6 T-LIGHTS SNOWMEN', 'CARD PARTY GAMES', 'CARD PSYCHEDELIC APPLES', 'CARD MOTORBIKE SANTA', 'CARD SUKI BIRTHDAY', 'CARD CHRISTMAS VILLAGE', 'HOT WATER BOTTLE I AM SO POORLY', 'HAND WARMER OWL DESIGN', 'HAND WARMER SCOTTY DOG DESIGN']\n"
     ]
    }
   ],
   "source": [
    "for i in baskets[:5]:\n",
    "   print(i)"
   ]
  },
  {
   "cell_type": "code",
   "execution_count": 25,
   "metadata": {},
   "outputs": [],
   "source": [
    "association_rules = apriori(baskets, min_support=0.01, min_confidence=0.2,\n",
    "min_lift=3, min_length=2)\n",
    "association_results = list(association_rules)"
   ]
  },
  {
   "cell_type": "code",
   "execution_count": 26,
   "metadata": {},
   "outputs": [
    {
     "name": "stdout",
     "output_type": "stream",
     "text": [
      "Rules generated:  91\n"
     ]
    }
   ],
   "source": [
    "print('Rules generated: ', len(association_results))"
   ]
  },
  {
   "cell_type": "code",
   "execution_count": 27,
   "metadata": {},
   "outputs": [
    {
     "name": "stdout",
     "output_type": "stream",
     "text": [
      "RelationRecord(items=frozenset({'ALARM CLOCK BAKELIKE IVORY', 'ALARM CLOCK BAKELIKE GREEN'}), support=0.011083860013206302, ordered_statistics=[OrderedStatistic(items_base=frozenset({'ALARM CLOCK BAKELIKE GREEN'}), items_add=frozenset({'ALARM CLOCK BAKELIKE IVORY'}), confidence=0.33098591549295775, lift=16.991678886880607), OrderedStatistic(items_base=frozenset({'ALARM CLOCK BAKELIKE IVORY'}), items_add=frozenset({'ALARM CLOCK BAKELIKE GREEN'}), confidence=0.5690072639225182, lift=16.991678886880607)])\n"
     ]
    }
   ],
   "source": [
    "print(association_results[0])"
   ]
  },
  {
   "cell_type": "code",
   "execution_count": 28,
   "metadata": {},
   "outputs": [
    {
     "name": "stdout",
     "output_type": "stream",
     "text": [
      "RelationRecord(items=frozenset({'HOT WATER BOTTLE TEA AND SYMPATHY', 'CHOCOLATE HOT WATER BOTTLE'}), support=0.01037637958683143, ordered_statistics=[OrderedStatistic(items_base=frozenset({'CHOCOLATE HOT WATER BOTTLE'}), items_add=frozenset({'HOT WATER BOTTLE TEA AND SYMPATHY'}), confidence=0.360655737704918, lift=17.824295922656574), OrderedStatistic(items_base=frozenset({'HOT WATER BOTTLE TEA AND SYMPATHY'}), items_add=frozenset({'CHOCOLATE HOT WATER BOTTLE'}), confidence=0.5128205128205128, lift=17.824295922656574)])\n"
     ]
    }
   ],
   "source": [
    "print(association_results[7])"
   ]
  },
  {
   "cell_type": "code",
   "execution_count": 29,
   "metadata": {},
   "outputs": [
    {
     "name": "stdout",
     "output_type": "stream",
     "text": [
      "RelationRecord(items=frozenset({'LUNCH BAG SUKI DESIGN', 'LUNCH BAG APPLE DESIGN'}), support=0.010046222054523159, ordered_statistics=[OrderedStatistic(items_base=frozenset({'LUNCH BAG APPLE DESIGN'}), items_add=frozenset({'LUNCH BAG SUKI DESIGN'}), confidence=0.3160237388724036, lift=9.116102464724763), OrderedStatistic(items_base=frozenset({'LUNCH BAG SUKI DESIGN'}), items_add=frozenset({'LUNCH BAG APPLE DESIGN'}), confidence=0.2897959183673469, lift=9.116102464724761)])\n"
     ]
    }
   ],
   "source": [
    "print(association_results[50])"
   ]
  },
  {
   "cell_type": "code",
   "execution_count": 30,
   "metadata": {},
   "outputs": [],
   "source": [
    "def display_rules(association_results):\n",
    "    for item in association_results:\n",
    "        pair = item[0]\n",
    "        items = [x for x in pair]\n",
    "        print(\"Rule: \" + items[0] + \" -> \" + items[1])\n",
    "        print(\"Support: \" + str(item[1]))\n",
    "        print(\"Confidence: \" + str(item[2][0][2]))\n",
    "        print(\"Lift: \" + str(item[2][0][3]))\n",
    "        print(\"=====================================\")"
   ]
  },
  {
   "cell_type": "code",
   "execution_count": 31,
   "metadata": {},
   "outputs": [
    {
     "name": "stdout",
     "output_type": "stream",
     "text": [
      "Rule: ALARM CLOCK BAKELIKE IVORY -> ALARM CLOCK BAKELIKE GREEN\n",
      "Support: 0.011083860013206302\n",
      "Confidence: 0.33098591549295775\n",
      "Lift: 16.991678886880607\n",
      "=====================================\n",
      "Rule: ALARM CLOCK BAKELIKE GREEN -> ALARM CLOCK BAKELIKE PINK\n",
      "Support: 0.013772285633430808\n",
      "Confidence: 0.4112676056338028\n",
      "Lift: 15.191107621337784\n",
      "=====================================\n",
      "Rule: ALARM CLOCK BAKELIKE RED -> ALARM CLOCK BAKELIKE GREEN\n",
      "Support: 0.020281105556079614\n",
      "Confidence: 0.6056338028169014\n",
      "Lift: 16.89558932542624\n",
      "=====================================\n",
      "Rule: ALARM CLOCK BAKELIKE IVORY -> ALARM CLOCK BAKELIKE RED\n",
      "Support: 0.0114611829072729\n",
      "Confidence: 0.5883777239709443\n",
      "Lift: 16.414190136357846\n",
      "=====================================\n",
      "Rule: ALARM CLOCK BAKELIKE RED -> ALARM CLOCK BAKELIKE ORANGE\n",
      "Support: 0.010093387416281482\n",
      "Confidence: 0.6114285714285713\n",
      "Lift: 17.05724812030075\n",
      "=====================================\n",
      "Rule: ALARM CLOCK BAKELIKE RED -> ALARM CLOCK BAKELIKE PINK\n",
      "Support: 0.015753230827280446\n",
      "Confidence: 0.5818815331010453\n",
      "Lift: 16.232963506326794\n",
      "=====================================\n",
      "Rule: CHARLOTTE BAG SUKI DESIGN -> CHARLOTTE BAG PINK POLKADOT\n",
      "Support: 0.012215828695406094\n",
      "Confidence: 0.5038910505836576\n",
      "Lift: 17.315231854902283\n",
      "=====================================\n",
      "Rule: HOT WATER BOTTLE TEA AND SYMPATHY -> CHOCOLATE HOT WATER BOTTLE\n",
      "Support: 0.01037637958683143\n",
      "Confidence: 0.360655737704918\n",
      "Lift: 17.824295922656574\n",
      "=====================================\n",
      "Rule: DOLLY GIRL LUNCH BOX -> SPACEBOY LUNCH BOX\n",
      "Support: 0.016555041977171964\n",
      "Confidence: 0.6072664359861591\n",
      "Lift: 21.106988484882862\n",
      "=====================================\n",
      "Rule: JUMBO BAG RED RETROSPOT -> DOTCOM POSTAGE\n",
      "Support: 0.0114611829072729\n",
      "Confidence: 0.5105042016806722\n",
      "Lift: 7.511249190863021\n",
      "=====================================\n"
     ]
    }
   ],
   "source": [
    "display_rules(association_results[:10])"
   ]
  },
  {
   "cell_type": "code",
   "execution_count": 33,
   "metadata": {},
   "outputs": [],
   "source": [
    "from collections import Counter"
   ]
  },
  {
   "cell_type": "code",
   "execution_count": 34,
   "metadata": {},
   "outputs": [
    {
     "data": {
      "text/plain": [
       "[('WHITE HANGING HEART T-LIGHT HOLDER', 1615),\n",
       " ('REGENCY CAKESTAND 3 TIER', 1519),\n",
       " ('JUMBO BAG RED RETROSPOT', 1455),\n",
       " ('PARTY BUNTING', 1155),\n",
       " ('LUNCH BAG RED RETROSPOT', 1061),\n",
       " ('ASSORTED COLOUR BIRD ORNAMENT', 964),\n",
       " ('LUNCH BAG  BLACK SKULL', 922),\n",
       " ('PACK OF 72 RETROSPOT CAKE CASES', 921),\n",
       " ('SET OF 3 CAKE TINS PANTRY DESIGN', 915),\n",
       " ('NATURAL SLATE HEART CHALKBOARD', 856)]"
      ]
     },
     "execution_count": 34,
     "metadata": {},
     "output_type": "execute_result"
    }
   ],
   "source": [
    "counter = Counter(baskets[0])\n",
    "\n",
    "for i in baskets[1:]:\n",
    "    if i != 'nan':\n",
    "       counter.update(i)\n",
    "del counter['nan']\n",
    "counter.most_common(10)"
   ]
  },
  {
   "cell_type": "code",
   "execution_count": 35,
   "metadata": {},
   "outputs": [],
   "source": [
    "association_rules = apriori(baskets, min_support=0.015, min_confidence=0.7,\n",
    "min_lift=3, min_length=2)\n",
    "association_results1 = list(association_rules)"
   ]
  },
  {
   "cell_type": "code",
   "execution_count": 36,
   "metadata": {},
   "outputs": [
    {
     "name": "stdout",
     "output_type": "stream",
     "text": [
      "Rules generated:  4\n"
     ]
    }
   ],
   "source": [
    "print('Rules generated: ', len(association_results1))"
   ]
  },
  {
   "cell_type": "code",
   "execution_count": 37,
   "metadata": {},
   "outputs": [
    {
     "name": "stdout",
     "output_type": "stream",
     "text": [
      "Rule: PINK REGENCY TEACUP AND SAUCER -> GREEN REGENCY TEACUP AND SAUCER\n",
      "Support: 0.022403546835204225\n",
      "Confidence: 0.8217993079584774\n",
      "Lift: 23.513885192085883\n",
      "=====================================\n",
      "Rule: ROSES REGENCY TEACUP AND SAUCER -> GREEN REGENCY TEACUP AND SAUCER\n",
      "Support: 0.025280633902462032\n",
      "Confidence: 0.7233468286099866\n",
      "Lift: 19.891568690258023\n",
      "=====================================\n",
      "Rule: ROSES REGENCY TEACUP AND SAUCER -> PINK REGENCY TEACUP AND SAUCER\n",
      "Support: 0.020799924535421187\n",
      "Confidence: 0.7629757785467128\n",
      "Lift: 20.981339113809867\n",
      "=====================================\n",
      "Rule: ROSES REGENCY TEACUP AND SAUCER -> PINK REGENCY TEACUP AND SAUCER\n",
      "Support: 0.018771813979813225\n",
      "Confidence: 0.8378947368421054\n",
      "Lift: 23.041561881357094\n",
      "=====================================\n"
     ]
    }
   ],
   "source": [
    "display_rules(association_results1[:10])"
   ]
  },
  {
   "cell_type": "code",
   "execution_count": 38,
   "metadata": {},
   "outputs": [],
   "source": [
    "association_rules = apriori(baskets, min_support=0.009, min_confidence=0.5,\n",
    "min_lift=3, min_length=2)"
   ]
  },
  {
   "cell_type": "code",
   "execution_count": 39,
   "metadata": {},
   "outputs": [],
   "source": [
    "association_results2 = list(association_rules)"
   ]
  },
  {
   "cell_type": "code",
   "execution_count": 40,
   "metadata": {},
   "outputs": [
    {
     "name": "stdout",
     "output_type": "stream",
     "text": [
      "Rules generated:  55\n"
     ]
    }
   ],
   "source": [
    "print('Rules generated: ', len(association_results2))"
   ]
  },
  {
   "cell_type": "code",
   "execution_count": 41,
   "metadata": {},
   "outputs": [
    {
     "name": "stdout",
     "output_type": "stream",
     "text": [
      "Rule: ALARM CLOCK BAKELIKE RED -> ALARM CLOCK BAKELIKE CHOCOLATE\n",
      "Support: 0.00995189133100651\n",
      "Confidence: 0.7009966777408638\n",
      "Lift: 19.555962580870784\n",
      "=====================================\n",
      "Rule: ALARM CLOCK BAKELIKE IVORY -> ALARM CLOCK BAKELIKE GREEN\n",
      "Support: 0.011083860013206302\n",
      "Confidence: 0.5690072639225182\n",
      "Lift: 16.991678886880607\n",
      "=====================================\n",
      "Rule: ALARM CLOCK BAKELIKE GREEN -> ALARM CLOCK BAKELIKE PINK\n",
      "Support: 0.013772285633430808\n",
      "Confidence: 0.5087108013937283\n",
      "Lift: 15.191107621337784\n",
      "=====================================\n",
      "Rule: ALARM CLOCK BAKELIKE RED -> ALARM CLOCK BAKELIKE GREEN\n",
      "Support: 0.020281105556079614\n",
      "Confidence: 0.6056338028169014\n",
      "Lift: 16.89558932542624\n",
      "=====================================\n",
      "Rule: ALARM CLOCK BAKELIKE IVORY -> ALARM CLOCK BAKELIKE RED\n",
      "Support: 0.0114611829072729\n",
      "Confidence: 0.5883777239709443\n",
      "Lift: 16.414190136357846\n",
      "=====================================\n",
      "Rule: ALARM CLOCK BAKELIKE RED -> ALARM CLOCK BAKELIKE ORANGE\n",
      "Support: 0.010093387416281482\n",
      "Confidence: 0.6114285714285713\n",
      "Lift: 17.05724812030075\n",
      "=====================================\n",
      "Rule: ALARM CLOCK BAKELIKE RED -> ALARM CLOCK BAKELIKE PINK\n",
      "Support: 0.015753230827280446\n",
      "Confidence: 0.5818815331010453\n",
      "Lift: 16.232963506326794\n",
      "=====================================\n",
      "Rule: BAKING SET 9 PIECE RETROSPOT -> BAKING SET SPACEBOY DESIGN\n",
      "Support: 0.009197245542873314\n",
      "Confidence: 0.6372549019607843\n",
      "Lift: 20.754344748652148\n",
      "=====================================\n",
      "Rule: BLUE HARMONICA IN BOX -> RED  HARMONICA IN BOX\n",
      "Support: 0.009668899160456561\n",
      "Confidence: 0.5112219451371571\n",
      "Lift: 24.302528432282525\n",
      "=====================================\n",
      "Rule: CHARLOTTE BAG SUKI DESIGN -> CHARLOTTE BAG PINK POLKADOT\n",
      "Support: 0.012215828695406094\n",
      "Confidence: 0.5038910505836576\n",
      "Lift: 17.315231854902283\n",
      "=====================================\n"
     ]
    }
   ],
   "source": [
    "display_rules(association_results2[:10])"
   ]
  },
  {
   "cell_type": "code",
   "execution_count": 42,
   "metadata": {},
   "outputs": [],
   "source": [
    "association_rules = apriori(baskets, min_support=0.015, min_confidence=0.5,\n",
    "min_lift=9, min_length=2)\n",
    "association_results3 = list(association_rules)"
   ]
  },
  {
   "cell_type": "code",
   "execution_count": 43,
   "metadata": {},
   "outputs": [
    {
     "name": "stdout",
     "output_type": "stream",
     "text": [
      "Rules generated:  12\n"
     ]
    }
   ],
   "source": [
    "print('Rules generated: ', len(association_results3))"
   ]
  },
  {
   "cell_type": "code",
   "execution_count": 44,
   "metadata": {},
   "outputs": [
    {
     "name": "stdout",
     "output_type": "stream",
     "text": [
      "Rule: ALARM CLOCK BAKELIKE RED -> ALARM CLOCK BAKELIKE GREEN\n",
      "Support: 0.020281105556079614\n",
      "Confidence: 0.6056338028169014\n",
      "Lift: 16.89558932542624\n",
      "=====================================\n",
      "Rule: ALARM CLOCK BAKELIKE RED -> ALARM CLOCK BAKELIKE PINK\n",
      "Support: 0.015753230827280446\n",
      "Confidence: 0.5818815331010453\n",
      "Lift: 16.232963506326794\n",
      "=====================================\n",
      "Rule: DOLLY GIRL LUNCH BOX -> SPACEBOY LUNCH BOX\n",
      "Support: 0.016555041977171964\n",
      "Confidence: 0.6072664359861591\n",
      "Lift: 21.106988484882862\n",
      "=====================================\n",
      "Rule: GARDENERS KNEELING PAD KEEP CALM -> GARDENERS KNEELING PAD CUP OF TEA\n",
      "Support: 0.016319215168380342\n",
      "Confidence: 0.6811023622047244\n",
      "Lift: 25.070715769903764\n",
      "=====================================\n",
      "Rule: PINK REGENCY TEACUP AND SAUCER -> GREEN REGENCY TEACUP AND SAUCER\n",
      "Support: 0.022403546835204225\n",
      "Confidence: 0.641025641025641\n",
      "Lift: 23.513885192085883\n",
      "=====================================\n",
      "Rule: ROSES REGENCY TEACUP AND SAUCER -> GREEN REGENCY TEACUP AND SAUCER\n",
      "Support: 0.025280633902462032\n",
      "Confidence: 0.7233468286099866\n",
      "Lift: 19.891568690258023\n",
      "=====================================\n",
      "Rule: HEART OF WICKER SMALL -> HEART OF WICKER LARGE\n",
      "Support: 0.015328742571455523\n",
      "Confidence: 0.5233494363929146\n",
      "Lift: 13.256935185666162\n",
      "=====================================\n",
      "Rule: JUMBO BAG RED RETROSPOT -> JUMBO BAG STRAWBERRY\n",
      "Support: 0.016272049806622016\n",
      "Confidence: 0.6400742115027829\n",
      "Lift: 9.417663728162388\n",
      "=====================================\n",
      "Rule: ROSES REGENCY TEACUP AND SAUCER -> PINK REGENCY TEACUP AND SAUCER\n",
      "Support: 0.020799924535421187\n",
      "Confidence: 0.7629757785467128\n",
      "Lift: 20.981339113809867\n",
      "=====================================\n",
      "Rule: WOODLAND CHARLOTTE BAG -> RED RETROSPOT CHARLOTTE BAG\n",
      "Support: 0.016130553721347043\n",
      "Confidence: 0.5876288659793815\n",
      "Lift: 17.69731138706654\n",
      "=====================================\n"
     ]
    }
   ],
   "source": [
    "display_rules(association_results3[:10])"
   ]
  }
 ],
 "metadata": {
  "kernelspec": {
   "display_name": "Python 3",
   "language": "python",
   "name": "python3"
  },
  "language_info": {
   "codemirror_mode": {
    "name": "ipython",
    "version": 3
   },
   "file_extension": ".py",
   "mimetype": "text/x-python",
   "name": "python",
   "nbconvert_exporter": "python",
   "pygments_lexer": "ipython3",
   "version": "3.12.0"
  }
 },
 "nbformat": 4,
 "nbformat_minor": 2
}
