{
 "cells": [
  {
   "cell_type": "code",
   "execution_count": 1,
   "metadata": {},
   "outputs": [],
   "source": [
    "import matplotlib.pyplot as plt; plt.rcdefaults()\n",
    "import matplotlib.pyplot as plt\n",
    "import pandas as pd\n",
    "import numpy as np\n",
    "import warnings\n",
    "warnings.filterwarnings('ignore')"
   ]
  },
  {
   "cell_type": "code",
   "execution_count": 3,
   "metadata": {},
   "outputs": [],
   "source": [
    "df = pd.read_csv('Workshop 06 dataset.zip', sep=\n",
    "'\\t')"
   ]
  },
  {
   "cell_type": "code",
   "execution_count": 4,
   "metadata": {},
   "outputs": [
    {
     "data": {
      "text/html": [
       "<div>\n",
       "<style scoped>\n",
       "    .dataframe tbody tr th:only-of-type {\n",
       "        vertical-align: middle;\n",
       "    }\n",
       "\n",
       "    .dataframe tbody tr th {\n",
       "        vertical-align: top;\n",
       "    }\n",
       "\n",
       "    .dataframe thead th {\n",
       "        text-align: right;\n",
       "    }\n",
       "</style>\n",
       "<table border=\"1\" class=\"dataframe\">\n",
       "  <thead>\n",
       "    <tr style=\"text-align: right;\">\n",
       "      <th></th>\n",
       "      <th>transaction_ID</th>\n",
       "      <th>Date</th>\n",
       "      <th>Time</th>\n",
       "      <th>item_0</th>\n",
       "      <th>item_1</th>\n",
       "      <th>item_2</th>\n",
       "      <th>item_3</th>\n",
       "      <th>item_4</th>\n",
       "      <th>item_5</th>\n",
       "      <th>item_6</th>\n",
       "      <th>...</th>\n",
       "      <th>item_31</th>\n",
       "      <th>item_32</th>\n",
       "      <th>item_33</th>\n",
       "      <th>item_34</th>\n",
       "      <th>item_35</th>\n",
       "      <th>item_36</th>\n",
       "      <th>item_37</th>\n",
       "      <th>item_38</th>\n",
       "      <th>item_39</th>\n",
       "      <th>item_40</th>\n",
       "    </tr>\n",
       "  </thead>\n",
       "  <tbody>\n",
       "    <tr>\n",
       "      <th>0</th>\n",
       "      <td>536365</td>\n",
       "      <td>01/12/2010</td>\n",
       "      <td>08:26</td>\n",
       "      <td>WHITE HANGING HEART T-LIGHT HOLDER</td>\n",
       "      <td>WHITE METAL LANTERN</td>\n",
       "      <td>CREAM CUPID HEARTS COAT HANGER</td>\n",
       "      <td>KNITTED UNION FLAG HOT WATER BOTTLE</td>\n",
       "      <td>RED WOOLLY HOTTIE WHITE HEART</td>\n",
       "      <td>SET 7 BABUSHKA NESTING BOXES</td>\n",
       "      <td>GLASS STAR FROSTED T-LIGHT HOLDER</td>\n",
       "      <td>...</td>\n",
       "      <td>NaN</td>\n",
       "      <td>NaN</td>\n",
       "      <td>NaN</td>\n",
       "      <td>NaN</td>\n",
       "      <td>NaN</td>\n",
       "      <td>NaN</td>\n",
       "      <td>NaN</td>\n",
       "      <td>NaN</td>\n",
       "      <td>NaN</td>\n",
       "      <td>NaN</td>\n",
       "    </tr>\n",
       "    <tr>\n",
       "      <th>1</th>\n",
       "      <td>536366</td>\n",
       "      <td>01/12/2010</td>\n",
       "      <td>08:28</td>\n",
       "      <td>HAND WARMER UNION JACK</td>\n",
       "      <td>HAND WARMER RED POLKA DOT</td>\n",
       "      <td>NaN</td>\n",
       "      <td>NaN</td>\n",
       "      <td>NaN</td>\n",
       "      <td>NaN</td>\n",
       "      <td>NaN</td>\n",
       "      <td>...</td>\n",
       "      <td>NaN</td>\n",
       "      <td>NaN</td>\n",
       "      <td>NaN</td>\n",
       "      <td>NaN</td>\n",
       "      <td>NaN</td>\n",
       "      <td>NaN</td>\n",
       "      <td>NaN</td>\n",
       "      <td>NaN</td>\n",
       "      <td>NaN</td>\n",
       "      <td>NaN</td>\n",
       "    </tr>\n",
       "    <tr>\n",
       "      <th>2</th>\n",
       "      <td>536367</td>\n",
       "      <td>01/12/2010</td>\n",
       "      <td>08:34</td>\n",
       "      <td>ASSORTED COLOUR BIRD ORNAMENT</td>\n",
       "      <td>POPPY'S PLAYHOUSE BEDROOM</td>\n",
       "      <td>POPPY'S PLAYHOUSE KITCHEN</td>\n",
       "      <td>FELTCRAFT PRINCESS CHARLOTTE DOLL</td>\n",
       "      <td>IVORY KNITTED MUG COSY</td>\n",
       "      <td>BOX OF 6 ASSORTED COLOUR TEASPOONS</td>\n",
       "      <td>BOX OF VINTAGE JIGSAW BLOCKS</td>\n",
       "      <td>...</td>\n",
       "      <td>NaN</td>\n",
       "      <td>NaN</td>\n",
       "      <td>NaN</td>\n",
       "      <td>NaN</td>\n",
       "      <td>NaN</td>\n",
       "      <td>NaN</td>\n",
       "      <td>NaN</td>\n",
       "      <td>NaN</td>\n",
       "      <td>NaN</td>\n",
       "      <td>NaN</td>\n",
       "    </tr>\n",
       "    <tr>\n",
       "      <th>3</th>\n",
       "      <td>536368</td>\n",
       "      <td>01/12/2010</td>\n",
       "      <td>08:34</td>\n",
       "      <td>JAM MAKING SET WITH JARS</td>\n",
       "      <td>RED COAT RACK PARIS FASHION</td>\n",
       "      <td>YELLOW COAT RACK PARIS FASHION</td>\n",
       "      <td>BLUE COAT RACK PARIS FASHION</td>\n",
       "      <td>NaN</td>\n",
       "      <td>NaN</td>\n",
       "      <td>NaN</td>\n",
       "      <td>...</td>\n",
       "      <td>NaN</td>\n",
       "      <td>NaN</td>\n",
       "      <td>NaN</td>\n",
       "      <td>NaN</td>\n",
       "      <td>NaN</td>\n",
       "      <td>NaN</td>\n",
       "      <td>NaN</td>\n",
       "      <td>NaN</td>\n",
       "      <td>NaN</td>\n",
       "      <td>NaN</td>\n",
       "    </tr>\n",
       "    <tr>\n",
       "      <th>4</th>\n",
       "      <td>536369</td>\n",
       "      <td>01/12/2010</td>\n",
       "      <td>08:35</td>\n",
       "      <td>BATH BUILDING BLOCK WORD</td>\n",
       "      <td>NaN</td>\n",
       "      <td>NaN</td>\n",
       "      <td>NaN</td>\n",
       "      <td>NaN</td>\n",
       "      <td>NaN</td>\n",
       "      <td>NaN</td>\n",
       "      <td>...</td>\n",
       "      <td>NaN</td>\n",
       "      <td>NaN</td>\n",
       "      <td>NaN</td>\n",
       "      <td>NaN</td>\n",
       "      <td>NaN</td>\n",
       "      <td>NaN</td>\n",
       "      <td>NaN</td>\n",
       "      <td>NaN</td>\n",
       "      <td>NaN</td>\n",
       "      <td>NaN</td>\n",
       "    </tr>\n",
       "  </tbody>\n",
       "</table>\n",
       "<p>5 rows × 44 columns</p>\n",
       "</div>"
      ],
      "text/plain": [
       "  transaction_ID        Date   Time                              item_0  \\\n",
       "0         536365  01/12/2010  08:26  WHITE HANGING HEART T-LIGHT HOLDER   \n",
       "1         536366  01/12/2010  08:28              HAND WARMER UNION JACK   \n",
       "2         536367  01/12/2010  08:34       ASSORTED COLOUR BIRD ORNAMENT   \n",
       "3         536368  01/12/2010  08:34            JAM MAKING SET WITH JARS   \n",
       "4         536369  01/12/2010  08:35            BATH BUILDING BLOCK WORD   \n",
       "\n",
       "                        item_1                          item_2  \\\n",
       "0          WHITE METAL LANTERN  CREAM CUPID HEARTS COAT HANGER   \n",
       "1    HAND WARMER RED POLKA DOT                             NaN   \n",
       "2    POPPY'S PLAYHOUSE BEDROOM       POPPY'S PLAYHOUSE KITCHEN   \n",
       "3  RED COAT RACK PARIS FASHION  YELLOW COAT RACK PARIS FASHION   \n",
       "4                          NaN                             NaN   \n",
       "\n",
       "                                item_3                         item_4  \\\n",
       "0  KNITTED UNION FLAG HOT WATER BOTTLE  RED WOOLLY HOTTIE WHITE HEART   \n",
       "1                                  NaN                            NaN   \n",
       "2    FELTCRAFT PRINCESS CHARLOTTE DOLL         IVORY KNITTED MUG COSY   \n",
       "3         BLUE COAT RACK PARIS FASHION                            NaN   \n",
       "4                                  NaN                            NaN   \n",
       "\n",
       "                               item_5                             item_6  ...  \\\n",
       "0        SET 7 BABUSHKA NESTING BOXES  GLASS STAR FROSTED T-LIGHT HOLDER  ...   \n",
       "1                                 NaN                                NaN  ...   \n",
       "2  BOX OF 6 ASSORTED COLOUR TEASPOONS       BOX OF VINTAGE JIGSAW BLOCKS  ...   \n",
       "3                                 NaN                                NaN  ...   \n",
       "4                                 NaN                                NaN  ...   \n",
       "\n",
       "  item_31 item_32 item_33 item_34 item_35 item_36 item_37 item_38 item_39  \\\n",
       "0     NaN     NaN     NaN     NaN     NaN     NaN     NaN     NaN     NaN   \n",
       "1     NaN     NaN     NaN     NaN     NaN     NaN     NaN     NaN     NaN   \n",
       "2     NaN     NaN     NaN     NaN     NaN     NaN     NaN     NaN     NaN   \n",
       "3     NaN     NaN     NaN     NaN     NaN     NaN     NaN     NaN     NaN   \n",
       "4     NaN     NaN     NaN     NaN     NaN     NaN     NaN     NaN     NaN   \n",
       "\n",
       "  item_40  \n",
       "0     NaN  \n",
       "1     NaN  \n",
       "2     NaN  \n",
       "3     NaN  \n",
       "4     NaN  \n",
       "\n",
       "[5 rows x 44 columns]"
      ]
     },
     "execution_count": 4,
     "metadata": {},
     "output_type": "execute_result"
    }
   ],
   "source": [
    "df.head()"
   ]
  },
  {
   "cell_type": "code",
   "execution_count": 5,
   "metadata": {},
   "outputs": [
    {
     "data": {
      "text/plain": [
       "(31941, 44)"
      ]
     },
     "execution_count": 5,
     "metadata": {},
     "output_type": "execute_result"
    }
   ],
   "source": [
    "df.shape"
   ]
  },
  {
   "cell_type": "code",
   "execution_count": 6,
   "metadata": {},
   "outputs": [],
   "source": [
    "STUDENT_NAME = 'MameFasseSALL'\n",
    "STUDENT_NO = '1202'"
   ]
  },
  {
   "cell_type": "code",
   "execution_count": 7,
   "metadata": {},
   "outputs": [],
   "source": [
    "np.random.seed(int(STUDENT_NO))\n",
    "unique_id = int('2' + STUDENT_NO)\n",
    "rows = np.random.choice(df.index.values, unique_id)\n",
    "data = df.loc[rows]"
   ]
  },
  {
   "cell_type": "code",
   "execution_count": 8,
   "metadata": {},
   "outputs": [],
   "source": [
    "file_name = STUDENT_NAME + \"_\" + STUDENT_NO + \"_6.csv\"\n",
    "data.to_csv(file_name)"
   ]
  },
  {
   "cell_type": "code",
   "execution_count": 9,
   "metadata": {},
   "outputs": [
    {
     "data": {
      "text/plain": [
       "(21202, 44)"
      ]
     },
     "execution_count": 9,
     "metadata": {},
     "output_type": "execute_result"
    }
   ],
   "source": [
    "data.shape"
   ]
  },
  {
   "cell_type": "code",
   "execution_count": 10,
   "metadata": {},
   "outputs": [
    {
     "data": {
      "text/plain": [
       "transaction_ID    13493\n",
       "Date                305\n",
       "Time                732\n",
       "item_0             2753\n",
       "item_1             2547\n",
       "item_2             2499\n",
       "item_3             2443\n",
       "item_4             2432\n",
       "item_5             2402\n",
       "item_6             2383\n",
       "item_7             2378\n",
       "item_8             2333\n",
       "item_9             2275\n",
       "item_10            2294\n",
       "item_11            2226\n",
       "item_12            2224\n",
       "item_13            2166\n",
       "item_14            2158\n",
       "item_15            2138\n",
       "item_16            2063\n",
       "item_17            2085\n",
       "item_18            2082\n",
       "item_19            2016\n",
       "item_20            1979\n",
       "item_21            1937\n",
       "item_22            1924\n",
       "item_23            1896\n",
       "item_24            1931\n",
       "item_25            1891\n",
       "item_26            1822\n",
       "item_27            1803\n",
       "item_28            1791\n",
       "item_29            1770\n",
       "item_30            1741\n",
       "item_31            1688\n",
       "item_32            1684\n",
       "item_33            1647\n",
       "item_34            1654\n",
       "item_35            1640\n",
       "item_36            1628\n",
       "item_37            1590\n",
       "item_38            1577\n",
       "item_39            1557\n",
       "item_40            1535\n",
       "dtype: int64"
      ]
     },
     "execution_count": 10,
     "metadata": {},
     "output_type": "execute_result"
    }
   ],
   "source": [
    "data.nunique()"
   ]
  },
  {
   "cell_type": "code",
   "execution_count": 11,
   "metadata": {},
   "outputs": [],
   "source": [
    "data['Hour'] = pd.to_datetime(data['Time'], format='%H:%M').dt.hour"
   ]
  }
 ],
 "metadata": {
  "kernelspec": {
   "display_name": "Python 3",
   "language": "python",
   "name": "python3"
  },
  "language_info": {
   "codemirror_mode": {
    "name": "ipython",
    "version": 3
   },
   "file_extension": ".py",
   "mimetype": "text/x-python",
   "name": "python",
   "nbconvert_exporter": "python",
   "pygments_lexer": "ipython3",
   "version": "3.12.0"
  }
 },
 "nbformat": 4,
 "nbformat_minor": 2
}
